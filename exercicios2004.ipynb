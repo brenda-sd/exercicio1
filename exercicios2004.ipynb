{
  "nbformat": 4,
  "nbformat_minor": 0,
  "metadata": {
    "colab": {
      "name": "Untitled0.ipynb",
      "provenance": [],
      "include_colab_link": true
    },
    "kernelspec": {
      "name": "python3",
      "display_name": "Python 3"
    },
    "language_info": {
      "name": "python"
    }
  },
  "cells": [
    {
      "cell_type": "markdown",
      "metadata": {
        "id": "view-in-github",
        "colab_type": "text"
      },
      "source": [
        "<a href=\"https://colab.research.google.com/github/brenda-sd/exercicio1/blob/main/exercicios2004.ipynb\" target=\"_parent\"><img src=\"https://colab.research.google.com/assets/colab-badge.svg\" alt=\"Open In Colab\"/></a>"
      ]
    },
    {
      "cell_type": "code",
      "execution_count": null,
      "metadata": {
        "id": "vYGzCPsnK7wZ"
      },
      "outputs": [],
      "source": [
        "velocidade = int(input('Qual velocidade? '))\n",
        "limite = 80\n",
        "if velocidade > limite:\n",
        "  print('Excesso de velocidade!')\n",
        "  multa = (velocidade - limite) * 5\n",
        "  print(f'Valor da Multa: R$ {multa:.2f}') \n",
        "else:\n",
        " print('Velocidade dentro do limite') "
      ]
    },
    {
      "cell_type": "code",
      "source": [
        "numero1 = int(input('Número 1: '))\n",
        "numero2 = int(input('Número 2: '))\n",
        "operacao = input('Qual operação? [+,-,*,/]')\n",
        "\n",
        "calculo = 0\n",
        "if operacao == '+':\n",
        "  calculo = numero1 + numero2\n",
        "  \n",
        "elif operacao == '-':\n",
        "  calculo = numero1 - numero2\n",
        "  \n",
        "elif operacao == '*':\n",
        "  calculo = numero1 * numero2\n",
        "  \n",
        "elif operacao == '/':\n",
        "  calculo = numero1 / numero2\n",
        "\n",
        "else: \n",
        "  calculo = 'erro'\n",
        "\n",
        "if calculo == 'erro':\n",
        "  print('Inválido')\n",
        "else:\n",
        "  print(f'Resultado: {calculo}')\n",
        "\n"
      ],
      "metadata": {
        "id": "5MVlkGDlJvPQ",
        "outputId": "cccbe6ba-571d-4bb5-b1da-f4626aa07992",
        "colab": {
          "base_uri": "https://localhost:8080/"
        }
      },
      "execution_count": 29,
      "outputs": [
        {
          "output_type": "stream",
          "name": "stdout",
          "text": [
            "Número 1: 10\n",
            "Número 2: 1\n",
            "Qual operação? [+,-,*,/]//\n",
            "Inválido\n"
          ]
        }
      ]
    },
    {
      "cell_type": "code",
      "source": [
        "valor = float(input('Valor da casa? '))\n",
        "salario = float(input('Salário: '))\n",
        "anos = int(input('Anos: '))\n",
        "\n",
        "prestacao = valor / (anos * 12)\n",
        "porc = salario * anos / 100\n",
        "\n",
        "\n",
        "if prestacao <= porc:\n",
        "  print(f'Aprovado')\n",
        "else:\n",
        "  print(f'Negado')\n",
        "\n",
        "\n",
        "\n",
        "\n"
      ],
      "metadata": {
        "id": "95pJvf-Qdblj",
        "outputId": "20d60083-d4c6-4b5f-e2f2-6851f2be258d",
        "colab": {
          "base_uri": "https://localhost:8080/"
        }
      },
      "execution_count": 54,
      "outputs": [
        {
          "output_type": "stream",
          "name": "stdout",
          "text": [
            "Valor da casa? 500000\n",
            "Salário: 10000\n",
            "Anos: 35\n",
            "Aprovado\n"
          ]
        }
      ]
    }
  ]
}