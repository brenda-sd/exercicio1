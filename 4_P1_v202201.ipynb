{
  "nbformat": 4,
  "nbformat_minor": 0,
  "metadata": {
    "colab": {
      "name": "4-P1_v202201.ipynb",
      "provenance": [],
      "collapsed_sections": [],
      "include_colab_link": true
    },
    "kernelspec": {
      "name": "python3",
      "display_name": "Python 3"
    },
    "language_info": {
      "name": "python"
    }
  },
  "cells": [
    {
      "cell_type": "markdown",
      "metadata": {
        "id": "view-in-github",
        "colab_type": "text"
      },
      "source": [
        "<a href=\"https://colab.research.google.com/github/brenda-sd/exercicio1/blob/main/4_P1_v202201.ipynb\" target=\"_parent\"><img src=\"https://colab.research.google.com/assets/colab-badge.svg\" alt=\"Open In Colab\"/></a>"
      ]
    },
    {
      "cell_type": "markdown",
      "metadata": {
        "id": "nO63LtWUuYud"
      },
      "source": [
        "# Condições\n",
        "Nem sempre todas as linhas dos programas serão executadas. Muitas vezes, será mais interessante decidir que partes do programa devem ser executadas com base no resultado de uma condição. A base dessas decisões consistirá em expressões lógicas que permitam representar escolhas em programas."
      ]
    },
    {
      "cell_type": "markdown",
      "metadata": {
        "id": "2hBP0TPsueK2"
      },
      "source": [
        "## if\n",
        "As condições servem para selecionar quando uma parte do programa deve ser ativada e quando deve ser simplesmente ignorada. Em Python, a estrutura de decisão é o `if`. Observe a sintaxe abaixo:"
      ]
    },
    {
      "cell_type": "markdown",
      "metadata": {
        "id": "9j3IS-dRu75R"
      },
      "source": [
        "`if <condição>:`\n",
        ">`bloco verdadeiro`"
      ]
    },
    {
      "cell_type": "markdown",
      "metadata": {
        "id": "grKS_fAwwmdl"
      },
      "source": [
        "O `if` nada mais é que o nosso “se”. Poderemos então entendê-lo em português da seguinte forma: se a condição for verdadeira, faça alguma coisa."
      ]
    },
    {
      "cell_type": "markdown",
      "metadata": {
        "id": "x3ezH8AWw3wi"
      },
      "source": [
        "---\n",
        "### Programa 4.1 - Lê dois valores e imprime qual é o maior\n",
        "Vejamos um exemplo de programa que lê dois valores e imprime qual é o maior."
      ]
    },
    {
      "cell_type": "code",
      "metadata": {
        "id": "uIeIYWA4uRr0",
        "colab": {
          "base_uri": "https://localhost:8080/"
        },
        "outputId": "fc5d4f40-5b59-4e9c-d179-14effead3510"
      },
      "source": [
        "a = int(input('Primeiro valor: ')) \n",
        "b = int(input('Segundo valor: '))\n",
        "\n",
        "if a > b: #1\n",
        "  print('O primeiro valor é o maior!')  # 2\n",
        "  print('Teste de recuo')\n",
        "if b > a: # 3\n",
        "  print('O segundo é o maior!')         # 4"
      ],
      "execution_count": null,
      "outputs": [
        {
          "name": "stdout",
          "output_type": "stream",
          "text": [
            "Primeiro valor: 10\n",
            "Segundo valor: 10\n"
          ]
        }
      ]
    },
    {
      "cell_type": "markdown",
      "metadata": {
        "id": "QqClpeLnyoHy"
      },
      "source": [
        "Em ❶, temos a condição a > b. Essa expressão será avaliada, e, se o seu resultado for verdadeiro, a linha ❷ será executada. Se for falso, a linha ❷ será ignorada. O mesmo acontece para a condição b > a da linha ❸. Se o seu resultado for verdadeiro, a linha ❹ será executada. Se for falso, ignorada.\n",
        "\n",
        "A sequência de execução do programa é alterada de acordo com os valores digitados como o primeiro e segundo valores. Faça o teste."
      ]
    },
    {
      "cell_type": "markdown",
      "metadata": {
        "id": "UOEBpa1czKSV"
      },
      "source": [
        "As linhas ❶ e ❸ foram terminadas com o símbolo dois pontos (:). Quando isso acontece, temos o anúncio de um bloco de linhas a seguir. Em Python, um bloco é representado deslocando-se o início da linha para a direita. O bloco continua até a primeira linha com deslocamento diferente. \n",
        "\n",
        "Observe que começamos a escrever a linha ❷ alguns caracteres mais à direita da linha anterior ❶ que iniciou o bloco. Como a linha ❸ foi escrita mais à esquerda, dizemos que o bloco da linha ❷ foi terminado."
      ]
    },
    {
      "cell_type": "markdown",
      "metadata": {
        "id": "XS1toSDH0IqD"
      },
      "source": [
        "---\n",
        "### Programa 4.2 - Carro novo ou velho, dependendo da idade\n",
        "Vejamos outro exemplo, em que solicitaremos a idade do carro do usuário e, em seguida, escreveremos novo se o carro tiver menos de cinco\n",
        " anos; ou velho, caso contrário."
      ]
    },
    {
      "cell_type": "code",
      "source": [
        "print(5 < 8)\n"
      ],
      "metadata": {
        "colab": {
          "base_uri": "https://localhost:8080/"
        },
        "id": "cUiOEZZNRdlu",
        "outputId": "d5c134a6-4d33-41f0-cc1c-cf73587062c8"
      },
      "execution_count": null,
      "outputs": [
        {
          "output_type": "stream",
          "name": "stdout",
          "text": [
            "True\n"
          ]
        }
      ]
    },
    {
      "cell_type": "code",
      "metadata": {
        "id": "1yIlgwLE0fC3",
        "colab": {
          "base_uri": "https://localhost:8080/"
        },
        "outputId": "4cb540cc-83db-4316-a22c-730e166043cd"
      },
      "source": [
        "idade = int(input('Digite a idade do seu carro [anos]: '))\n",
        "if idade <= 5:\n",
        "  print('Seu carro é novo.')  # 1\n",
        "if idade > 5:\n",
        "  print('Seu carro é velho.') # 2"
      ],
      "execution_count": null,
      "outputs": [
        {
          "output_type": "stream",
          "name": "stdout",
          "text": [
            "Digite a idade do seu carro [anos]: 5\n",
            "Seu carro é novo.\n"
          ]
        }
      ]
    },
    {
      "cell_type": "markdown",
      "metadata": {
        "id": "tBn80wTN1UPb"
      },
      "source": [
        "A primeira condição é idade <= 5. Essa condição decide se a linha com função `print` ❶ será ou não executada. Como é uma condição simples, podemos entender que só exibiremos a mensagem do carro novo para as idades 0, 1, 2, 3, 4 e 5. A segunda condição, idade > 5, é o inverso da primeira. Se você observar de perto, não há um só número que torne ambas verdadeiras ao mesmo tempo. A segunda decisão é responsável por decidir a impressão da mensagem do carro velho ❷.\n",
        "\n",
        "Embora óbvio que um carro não poderia ter **valores negativos** como idade, o programa não trata desse problema. Vamos alterá-lo mais adiante para verificar valores inválidos."
      ]
    },
    {
      "cell_type": "markdown",
      "metadata": {
        "id": "JQpEvxKz4X5T"
      },
      "source": [
        "### Programa 4.3 - Cálculo do Imposto de Renda\n",
        "Um problema comum é quando temos que pagar Imposto de Renda. Normalmente, pagamos o Imposto de Renda por faixa de salário. Imagine que para salários até R\\$ 1.000,00 não teríamos imposto a pagar, ou seja, alíquota 0%. Para salários entre R\\$ 1.000,00 e R\\$ 3.000,00 pagaríamos 20%. Acima desses valores, a alíquota seria de 35%. Esse problema se pareceria muito com o anterior, salvo se o imposto não fosse cobrado diferentemente para cada faixa, ou seja, quem ganha R\\$ 4.000,00 tem os primeiros R\\$ 1.000,00 isentos de imposto; com o montante entre R\\$ 1.000,00 e R$ 3.000,00 pagando 20%, e o restante pagando os 35%. Vejamos a solução."
      ]
    },
    {
      "cell_type": "code",
      "metadata": {
        "id": "ySZV9BT68ufH"
      },
      "source": [
        "salário = float(input('Digite o salário para cálculo do imposto: '))\n",
        "base = salário #1\n",
        "imposto = 0\n",
        "if base > 3000: #2\n",
        "  imposto = imposto + ((base - 3000) * 0.35) #3\n",
        "  base = 3000 #4\n",
        "if base > 1000: #5\n",
        "  imposto = imposto + ((base - 1000) * 0.20) #6\n",
        "print(f'Salário: \\t\\tR${salário:6.2f}\\nImposto a pagar: \\tR${imposto:6.2f}')\n"
      ],
      "execution_count": null,
      "outputs": []
    },
    {
      "cell_type": "markdown",
      "metadata": {
        "id": "grX1vpmzBKAD"
      },
      "source": [
        "O programa 4.3 é bem interessante. Tente executá-lo algumas vezes e compare o valor impresso com o valor calculado por você. Rastreie o programa e tente entender o que ele faz antes de ler o parágrafo seguinte. Verifique o que acontece para salários de R\\$ 500,00, R\\$ 1.000,00 e R\\$ 1,500,00.\n",
        "\n",
        "Em ❶ temos a variável `base` recebendo uma cópia de `salário`. Isso é necessário porque, quando atribuímos um novo valor para uma variável, o valor anterior é substituído (e perdido se não o guardarmos em outro lugar). Como vamos utilizar o valor do salário digitado para exibi-lo na tela, não podemos perdê-lo; por isso, a necessidade de uma variável auxiliar chamada aqui de `base`.\n",
        "\n",
        "Em ❷ verificamos se a `base` é maior que R\\$ 3.000,00. Se verdadeiro, executamos as linhas ❸ e ❹. Em ❸, calculamos 35% do valor superior a R\\$ 3.000,00. O resultado é armazenado na variável `imposto`. Como essa variável contém o valor a pagar para essa quantia, atualizaremos o valor de base para R\\$ 3.000,00 ❹, pois o que ultrapassa esse valor já foi tarifado.\n",
        "\n",
        "Em ❺ verificamos se o valor de `base` é maior que R\\$ 1.000,00, calculando 20% de imposto em ❻, caso verdadeiro."
      ]
    },
    {
      "cell_type": "markdown",
      "metadata": {
        "id": "UuoUylpC4DIT"
      },
      "source": [
        "### Blocos\n",
        "Um bloco de linhas em Python pode ter mais de uma linha. Se você precisar de duas ou mais no mesmo bloco, escreva essas linhas na mesma direção ou na mesma coluna da primeira linha do bloco. Isso basta para representá-lo."
      ]
    },
    {
      "cell_type": "markdown",
      "metadata": {
        "id": "j_HKBcQ33Yvo"
      },
      "source": [
        "---\n",
        "### Exercícios"
      ]
    },
    {
      "cell_type": "markdown",
      "metadata": {
        "id": "ZlR-wv_xzyln"
      },
      "source": [
        "#### Exercício 4.1\n",
        "Analise o programa 4.1. Responda o que acontece se o\n",
        "primeiro e o segundo valor forem iguais? Explique."
      ]
    },
    {
      "cell_type": "code",
      "source": [
        "'''\n",
        "Nenhum dos comandos 'if's são executados. Portanto, não teremos nenhum dos\n",
        "comandos 'print's sendo executados consequentemente.\n",
        "'''"
      ],
      "metadata": {
        "id": "px7gCWCmk7oz"
      },
      "execution_count": null,
      "outputs": []
    },
    {
      "cell_type": "code",
      "source": [
        "a = int(input('Primeiro valor: ')) \n",
        "b = int(input('Segundo valor: '))\n",
        "\n",
        "if a > b: #1\n",
        "  print('O primeiro valor é o maior!')  # 2\n",
        "  print('Teste de recuo')\n",
        "if b > a: # 3\n",
        "  print('O segundo é o maior!')         # 4"
      ],
      "metadata": {
        "colab": {
          "base_uri": "https://localhost:8080/"
        },
        "id": "TUPcSCqakqP7",
        "outputId": "55dc1301-5be3-4e60-be6a-002f9be5f2b9"
      },
      "execution_count": null,
      "outputs": [
        {
          "name": "stdout",
          "output_type": "stream",
          "text": [
            "Primeiro valor: 5\n",
            "Segundo valor: 5\n"
          ]
        }
      ]
    },
    {
      "cell_type": "markdown",
      "metadata": {
        "id": "vHpt4xGs2F1v"
      },
      "source": [
        "#### Exercício 4.2\n",
        "Escreva um programa que pergunte a velocidade do carro de um usuário. Caso ultrapasse 80 km/h, exiba uma mensagem dizendo que o usuário foi multado. Nesse caso, exiba o valor da multa, cobrando R$ 5 por km acima de 80 km/h."
      ]
    },
    {
      "cell_type": "code",
      "source": [
        "velocidade = int(input('Qual a velocidade? '))\n",
        "limite = 80\n",
        "if velocidade > limite:\n",
        "  print('Excesso de velocidade!!')\n",
        "  multa = (velocidade - limite) * 5\n",
        "  print(f'Valor da multa: R$ {multa:.2f}')\n",
        "else:\n",
        "  print('Velocidade dentro do limite')"
      ],
      "metadata": {
        "id": "IXlTCvqDlgig",
        "colab": {
          "base_uri": "https://localhost:8080/"
        },
        "outputId": "d5fc50f3-460a-40a7-98aa-d5e8c57d36cf"
      },
      "execution_count": null,
      "outputs": [
        {
          "output_type": "stream",
          "name": "stdout",
          "text": [
            "Qual a velocidade? 100\n",
            "Excesso de velocidade!!\n",
            "Valor da multa: R$ 100.00\n"
          ]
        }
      ]
    },
    {
      "cell_type": "markdown",
      "metadata": {
        "id": "8OHg9xoRCZKR"
      },
      "source": [
        "#### Exercício 4.3\n",
        "Escreva um programa que leia três números e que imprima o maior\n",
        "e o menor."
      ]
    },
    {
      "cell_type": "code",
      "source": [
        "n1 = int(input('Número 1: '))\n",
        "n2 = int(input('Número 2: '))\n",
        "n3 = int(input('Número 3: '))\n",
        "# identificando o maior\n",
        "if n1 > n2 and n1 > n3:\n",
        "  print(f'{n1} é o maior número')\n",
        "elif n2 > n1 and n2 > n3:\n",
        "  print(f'{n2} é o maior número')\n",
        "else:\n",
        "  print(f'{n3} é o maior número')\n",
        "# identificando o menor\n",
        "if n1 < n2 and n1 < n3:\n",
        "  print(f'{n1} é o MENOR número')\n",
        "elif n2 < n1 and n2 < n3:\n",
        "  print(f'{n2} é o MENOR número')\n",
        "else:\n",
        "  print(f'{n3} é o MENOR número')"
      ],
      "metadata": {
        "colab": {
          "base_uri": "https://localhost:8080/"
        },
        "id": "s9TE9AT1QYhQ",
        "outputId": "a9f4043b-e42b-4a41-fa32-33ad74c34f8e"
      },
      "execution_count": null,
      "outputs": [
        {
          "output_type": "stream",
          "name": "stdout",
          "text": [
            "Número 1: 10\n",
            "Número 2: 10\n",
            "Número 3: 10\n",
            "10 é o maior número\n",
            "10 é o MENOR número\n"
          ]
        }
      ]
    },
    {
      "cell_type": "markdown",
      "metadata": {
        "id": "O6Kgh_wOCjh3"
      },
      "source": [
        "#### Exercício 4.4\n",
        "Escreva um programa que pergunte o salário do funcionário e calcule o valor do aumento. Para salários superiores a R$ 1.250,00, calcule um aumento de 10%. Para os inferiores ou iguais, de 15%."
      ]
    },
    {
      "cell_type": "code",
      "source": [
        "salario = float(input('Digite o valor do salário: '))\n",
        "\n",
        "# Encontrar a porcentagem\n",
        "if salario > 1250:\n",
        "  porc = 10\n",
        "else:\n",
        "  porc = 15\n",
        "# calcular o aumento\n",
        "aumento = salario + (salario * porc / 100)\n",
        "print(f'Valor do aumento: {aumento:.2f}')"
      ],
      "metadata": {
        "colab": {
          "base_uri": "https://localhost:8080/"
        },
        "id": "7uqZwxrUiJjk",
        "outputId": "94762215-9aba-4fd5-a41d-f7e3b0c6a1d4"
      },
      "execution_count": null,
      "outputs": [
        {
          "output_type": "stream",
          "name": "stdout",
          "text": [
            "Digite o valor do salário: 1000\n",
            "Valor do aumento: 1150.00\n"
          ]
        }
      ]
    },
    {
      "cell_type": "markdown",
      "metadata": {
        "id": "5x-qDOp1CvYU"
      },
      "source": [
        "---\n",
        "## else\n"
      ]
    },
    {
      "cell_type": "markdown",
      "metadata": {
        "id": "Y5xySTeMDkI3"
      },
      "source": [
        "### Programa 4.4 - Carro novo ou velho, dependendo da idade com else\n",
        "\n",
        "Quando há problemas, como a mensagem do carro velho (Programa 4.2), na qual a segunda condição é simplesmente o inverso da primeira, podemos usar outra forma de `if` para simplificar os programas. Essa forma é a cláusula `else` para especificar o que fazer caso o resultado da avaliação da condição seja falso, sem precisarmos de um novo `if`. Vejamos como ficaria o programa reescrito para usar `else`:"
      ]
    },
    {
      "cell_type": "code",
      "metadata": {
        "id": "UcATSghSDtoN"
      },
      "source": [
        "idade = int(input('Digite a idade do seu carro [anos]: '))\n",
        "if idade <= 5:\n",
        "  print('Seu carro é novo.')\n",
        "else: #1\n",
        "  print('Seu carro é velho.') # 2"
      ],
      "execution_count": null,
      "outputs": []
    },
    {
      "cell_type": "markdown",
      "metadata": {
        "id": "g_2AroAREKjc"
      },
      "source": [
        "Veja que em ❶ utilizamos “:” após `else`. Isso é necessário porque `else` inicia um bloco, da mesma forma que `if`. É importante notar que devemos escrever `else` na mesma coluna do `if`, ou seja, com o mesmo recuo. Assim, o interpretador reconhece que `else` se refere a um determinado `if`. Você obterá um erro caso não alinhe essas duas estruturas na mesma coluna.\n",
        "\n",
        "A vantagem de usar `else` é deixar os programas mais claros, uma vez que podemos expressar o que fazer caso a condição especificada em `if` seja falsa. A linha ❷ só é executada se a condição `idade <= 5` for falsa."
      ]
    },
    {
      "cell_type": "markdown",
      "metadata": {
        "id": "tYvvbgriE-Mo"
      },
      "source": [
        "### Exercícios"
      ]
    },
    {
      "cell_type": "markdown",
      "metadata": {
        "id": "Z-3Cacm8FD9Q"
      },
      "source": [
        "#### Exercício 4.5\n",
        "Execute o Programa 4.4 e experimente alguns valores.\n",
        "Verifique se os resultados foram os mesmos do Programa 4.2."
      ]
    },
    {
      "cell_type": "markdown",
      "metadata": {
        "id": "fOS30QsWFagG"
      },
      "source": [
        "#### Exercício 4.6\n",
        "Escreva um programa que pergunte a distância que um passageiro deseja percorrer em km. Calcule o preço da passagem, cobrando R\\$ 0,50 por km para viagens de até de 200 km, e R\\$ 0,45 para viagens mais longas."
      ]
    },
    {
      "cell_type": "code",
      "source": [
        "distancia = float(input('Digite o valor da distância: '))\n",
        "\n",
        "# Encontrar o valor por km\n",
        "if distancia <=  200:\n",
        "  valor = 0.5\n",
        "else:\n",
        "  valor = 0.45\n",
        "# calcular o aumento\n",
        "viagem = distancia * valor\n",
        "print(f'Valor da viagem: {viagem:.2f}')"
      ],
      "metadata": {
        "colab": {
          "base_uri": "https://localhost:8080/"
        },
        "id": "WnuZJJu6vMIG",
        "outputId": "94f920c8-6aea-43f3-bb6b-2e14da417079"
      },
      "execution_count": null,
      "outputs": [
        {
          "output_type": "stream",
          "name": "stdout",
          "text": [
            "Digite o valor da distância: 300\n",
            "Valor da viagem: 135.00\n"
          ]
        }
      ]
    },
    {
      "cell_type": "markdown",
      "metadata": {
        "id": "4pTlIuo5FBVi"
      },
      "source": [
        "---\n",
        "## Estruturas aninhadas\n",
        "\n",
        "Nem sempre nossos programas serão tão simples. Muitas vezes, precisaremos aninhar vários `if` para obter o comportamento desejado do programa. Aninhar, nesse caso, é utilizar um `if` dentro de outro."
      ]
    },
    {
      "cell_type": "markdown",
      "metadata": {
        "id": "0QLXPfoxGZdi"
      },
      "source": [
        "### Programa 4.5 - Conta de telefone com três faixas de preço\n",
        "\n",
        "Vejamos o exemplo de calcular a conta de um telefone celular da empresa Tchau. Os planos da empresa Tchau são bem interessantes e oferecem preços diferenciados de acordo com a quantidade de minutos usados por mês. Abaixo de 200 minutos, a empresa cobra R$ 0,20 por minuto. Entre 200 e 400 minutos, o preço é de R\\$ 0,18. Acima de 400 minutos, o preço por minuto é de R\\$ 0,15. O programa 4.5 resolve esse problema."
      ]
    },
    {
      "cell_type": "code",
      "metadata": {
        "id": "iFSQ7Nl4GzkB"
      },
      "source": [
        "minutos = int(input('Quantos minutos você utilizou este mês:'))\n",
        "if minutos < 200: #1\n",
        "  preço = 0.20 #2\n",
        "else:\n",
        "  if minutos < 400: #3\n",
        "    preço = 0.18 #4\n",
        "  else: #5\n",
        "    preço = 0.15 #6\n",
        "print(f'Você vai pagar este mês: R${minutos * preço:6.2f}')"
      ],
      "execution_count": null,
      "outputs": []
    },
    {
      "cell_type": "markdown",
      "metadata": {
        "id": "MZI6zU2lHnWU"
      },
      "source": [
        "Em ❶, temos a primeira condição: minutos < 200. Se a quantidade de minutos for menor que 200, atribuímos 0,20 ao preço em ❷. Até aqui, nada de novo. Observe que `if` de ❸ está dentro de `else` da linha anterior: dizemos que está aninhado dentro de `else`. A condição de ❸, `minutos < 400`, decide se vamos executar a linha de ❹ ou a de ❻. Observe que `else` de ❺ está alinhado com `if` de ❸. No final, calculamos e imprimimos o `preço` na tela. Lembre-se de que **o alinhamento do texto é muito importante em Python**."
      ]
    },
    {
      "cell_type": "markdown",
      "metadata": {
        "id": "6qZ4uDJVIUWh"
      },
      "source": [
        "### Programa 4.6 - Categoria x preço\n",
        "\n",
        "Vejamos, por exemplo, a situação em que cinco categorias são necessárias. Façamos um programa que leia a categoria de um produto e determine o preço pela tabela abaixo.\n",
        "\n",
        "Categoria | Preço\n",
        "----------|---------\n",
        "    1     |10,00\n",
        "    2     |18,00\n",
        "    3     |23,00\n",
        "    4     |26,00\n",
        "    5     |31,00\n"
      ]
    },
    {
      "cell_type": "code",
      "metadata": {
        "id": "oX3s9Zg9IUWl"
      },
      "source": [
        "categoria = int(input('Digite a categoria do produto:'))              #1\n",
        "if categoria == 1:                                                    #2\n",
        "  preço = 10                                                          #3\n",
        "else:                                                                 #4\n",
        "  if categoria == 2:                                                  #5\n",
        "    preço = 18                                                        #6\n",
        "  else:                                                               #7\n",
        "    if categoria == 3:                                                #8\n",
        "      preço = 23                                                      #9\n",
        "    else:                                                             #10\n",
        "      if categoria == 4:                                              #11\n",
        "        preço = 26                                                    #12\n",
        "      else:                                                           #13\n",
        "        if categoria == 5:                                            #14\n",
        "          preço = 31                                                  #15\n",
        "        else:                                                         #16\n",
        "          print('Categoria inválida, digite um valor entre 1 e 5!')   #17\n",
        "          preço = 0                                                   #18\n",
        "print(f'O preço do produto é: R${preço:6.2f}')                        #19"
      ],
      "execution_count": null,
      "outputs": []
    },
    {
      "cell_type": "markdown",
      "metadata": {
        "id": "sLTgV4AXLLJl"
      },
      "source": [
        "Observe que o alinhamento se tornou um grande problema, uma vez que tivemos que deslocar à direita a cada `else`.\n",
        "\n",
        "No Programa 4.6, introduzimos o conceito de validação da entrada.\n",
        "Dessa vez, se o usuário digitar um valor inválido, receberá uma mensagem de erro na tela. Nada muito prático ou bonito.\n",
        "\n",
        "Vejamos a execução das linhas dependendo da categoria digitada:\n",
        "\n",
        "Tabela 4.2\n",
        "\n",
        "Categoria | Linhas executadas\n",
        "----------|------------------------------------\n",
        "    1     |1,2,3,19\n",
        "    2     |1,2,4,5,6,19\n",
        "    3     |1,2,4,5,7,8,9,19\n",
        "    4     |1,2,4,5,7,8,10,11,12,19\n",
        "    5     |1,2,4,5,7,8,10,11,13,14,15,19\n",
        "  outras  |1,2,4,5,7,8,10,11,13,14,16,17,18,19\n",
        "\n",
        "Quando lermos um programa com estruturas aninhadas, devemos prestar muita atenção para visualizar corretamente os blocos. **Observe como o alinhamento é importante**."
      ]
    },
    {
      "cell_type": "markdown",
      "metadata": {
        "id": "QKtf3GSNNXcV"
      },
      "source": [
        "### Exercícios"
      ]
    },
    {
      "cell_type": "markdown",
      "metadata": {
        "id": "rgwEle8dNXcW"
      },
      "source": [
        "#### Exercício 4.7\n",
        "Rastreie o Programa 4.6. Compare seu resultado ao apresentado na tabela 4.2."
      ]
    },
    {
      "cell_type": "markdown",
      "metadata": {
        "id": "XpbTBWKsN4V0"
      },
      "source": [
        "---\n",
        "## elif\n",
        "Python apresenta uma solução muito interessante ao problema de  múltiplos `if`s aninhados. A cláusula `elif` substitui um par `else` `if`, mas sem criar outro nível de estrutura, evitando problemas de deslocamentos desnecessários à direita."
      ]
    },
    {
      "cell_type": "markdown",
      "metadata": {
        "id": "GO923QtiOeuN"
      },
      "source": [
        "### Programa 4.7 - Categoria x preço, usando elif\n",
        "\n",
        "Vamos revisitar o Programa 4.6, dessa vez usando `elif`. Veja o resultado no programa abaixo.\n",
        "\n"
      ]
    },
    {
      "cell_type": "code",
      "metadata": {
        "id": "yl3YMGhvOeuQ"
      },
      "source": [
        "categoria = int(input('Digite a categoria do produto:'))      #1\n",
        "if categoria == 1:                                            #2\n",
        "  preço = 10                                                  #3\n",
        "elif categoria == 2:                                          #4\n",
        "  preço = 18                                                  #5\n",
        "elif categoria == 3:                                          #6\n",
        "  preço = 23                                                  #7\n",
        "elif categoria == 4:                                          #8\n",
        "  preço = 26                                                  #9\n",
        "elif categoria == 5:                                          #10\n",
        "  preço = 31                                                  #11\n",
        "else:                                                         #12\n",
        "  print('Categoria inválida, digite um valor entre 1 e 5!')   #13\n",
        "  preço = 0                                                   #14\n",
        "print(f'O preço do produto é: R${preço:6.2f}')                #15"
      ],
      "execution_count": null,
      "outputs": []
    },
    {
      "cell_type": "markdown",
      "metadata": {
        "id": "iZX-guRiPm6P"
      },
      "source": [
        "### Exercícios"
      ]
    },
    {
      "cell_type": "markdown",
      "metadata": {
        "id": "5Za_D5liPm6Q"
      },
      "source": [
        "#### Exercício 4.8\n",
        "Escreva um programa que leia dois números e que pergunte qual operação você deseja realizar. Você deve poder calcular a soma (+), subtração (-), multiplicação (*) e divisão (/). Exiba o resultado da operação solicitada."
      ]
    },
    {
      "cell_type": "code",
      "source": [
        "n1 = float(input('Digite o 1º número: '))\n",
        "n2 = float(input('Digite o 2º número: '))\n",
        "op = input('Qual operação? [+,-,*,/]')\n",
        "\n",
        "calculo = 0\n",
        "if op == '+':\n",
        "  calculo = n1 + n2\n",
        "elif op == '-':\n",
        "  calculo = n1 - n2\n",
        "elif op == '*':\n",
        "  calculo = n1 * n2\n",
        "elif op == '/':\n",
        "  calculo = n1 / n2\n",
        "else:\n",
        "  calculo = 'erro'\n",
        "\n",
        "if calculo == 'erro':\n",
        "  print('Operador inválido!')\n",
        "else:\n",
        "  print(f'Resultado do cálculo: {calculo}')\n"
      ],
      "metadata": {
        "colab": {
          "base_uri": "https://localhost:8080/",
          "height": 291
        },
        "id": "VRgmkP-EI0cB",
        "outputId": "984c6e0a-3bac-4626-9000-88c6da8fde54"
      },
      "execution_count": null,
      "outputs": [
        {
          "name": "stdout",
          "output_type": "stream",
          "text": [
            "Digite o 1º número: 10\n",
            "Digite o 2º número: 0\n",
            "Qual operação? [+,-,*,/]/\n"
          ]
        },
        {
          "output_type": "error",
          "ename": "ZeroDivisionError",
          "evalue": "ignored",
          "traceback": [
            "\u001b[0;31m---------------------------------------------------------------------------\u001b[0m",
            "\u001b[0;31mZeroDivisionError\u001b[0m                         Traceback (most recent call last)",
            "\u001b[0;32m<ipython-input-19-ad40d67f7d49>\u001b[0m in \u001b[0;36m<module>\u001b[0;34m()\u001b[0m\n\u001b[1;32m     11\u001b[0m   \u001b[0mcalculo\u001b[0m \u001b[0;34m=\u001b[0m \u001b[0mn1\u001b[0m \u001b[0;34m*\u001b[0m \u001b[0mn2\u001b[0m\u001b[0;34m\u001b[0m\u001b[0;34m\u001b[0m\u001b[0m\n\u001b[1;32m     12\u001b[0m \u001b[0;32melif\u001b[0m \u001b[0mop\u001b[0m \u001b[0;34m==\u001b[0m \u001b[0;34m'/'\u001b[0m\u001b[0;34m:\u001b[0m\u001b[0;34m\u001b[0m\u001b[0;34m\u001b[0m\u001b[0m\n\u001b[0;32m---> 13\u001b[0;31m   \u001b[0mcalculo\u001b[0m \u001b[0;34m=\u001b[0m \u001b[0mn1\u001b[0m \u001b[0;34m/\u001b[0m \u001b[0mn2\u001b[0m\u001b[0;34m\u001b[0m\u001b[0;34m\u001b[0m\u001b[0m\n\u001b[0m\u001b[1;32m     14\u001b[0m \u001b[0;32melse\u001b[0m\u001b[0;34m:\u001b[0m\u001b[0;34m\u001b[0m\u001b[0;34m\u001b[0m\u001b[0m\n\u001b[1;32m     15\u001b[0m   \u001b[0mcalculo\u001b[0m \u001b[0;34m=\u001b[0m \u001b[0;34m'erro'\u001b[0m\u001b[0;34m\u001b[0m\u001b[0;34m\u001b[0m\u001b[0m\n",
            "\u001b[0;31mZeroDivisionError\u001b[0m: float division by zero"
          ]
        }
      ]
    },
    {
      "cell_type": "code",
      "source": [
        "print(op)"
      ],
      "metadata": {
        "colab": {
          "base_uri": "https://localhost:8080/"
        },
        "id": "2jmSVGdfJf1i",
        "outputId": "2d4f440c-3a55-4cad-a894-683cd2d590ea"
      },
      "execution_count": null,
      "outputs": [
        {
          "output_type": "stream",
          "name": "stdout",
          "text": [
            "*\n"
          ]
        }
      ]
    },
    {
      "cell_type": "markdown",
      "metadata": {
        "id": "oCRRVzvhPy5q"
      },
      "source": [
        "#### Exercício 4.9\n",
        "Escreva um programa para aprovar o empréstimo bancário para compra de uma casa. O programa deve perguntar o valor da casa a comprar, o salário e a quantidade de anos a pagar. O valor da prestação mensal não pode ser superior a 30% do salário. Calcule o valor da prestação como sendo o valor da casa a comprar dividido pelo número de meses a pagar."
      ]
    },
    {
      "cell_type": "code",
      "source": [
        ""
      ],
      "metadata": {
        "id": "xyBuGh8MFMgm"
      },
      "execution_count": null,
      "outputs": []
    },
    {
      "cell_type": "markdown",
      "metadata": {
        "id": "Ezrh8dC1QDt-"
      },
      "source": [
        "#### Exercício 4.10\n",
        "Escreva um programa que calcule o preço a pagar pelo fornecimento de energia elétrica. Pergunte a quantidade de kWh consumida e o tipo de instalação: R para residências, I para indústrias e C para comércios. Calcule o preço a pagar de acordo com a tabela a seguir.\n",
        "\n",
        "**Preço por tipo e faixa de consumo**\n",
        "\n",
        "Tipo: *Residencial*\n",
        "\n",
        "Faixa (kWh)  | Preço\n",
        "-------------|---------\n",
        "Até 500      |R\\$ 0,40\n",
        "Acima de 500 |R\\$ 0,65\n",
        "\n",
        "Tipo: *Comercial*\n",
        "\n",
        "Faixa (kWh)  | Preço\n",
        "-------------|---------\n",
        "Até 1000     |R\\$ 0,55\n",
        "Acima de 1000|R\\$ 0,60\n",
        "\n",
        "Tipo: *Industrial*\n",
        "\n",
        "Faixa (kWh)  | Preço\n",
        "-------------|---------\n",
        "Até 5000     |R\\$ 0,55\n",
        "Acima de 5000|R\\$ 0,60\n"
      ]
    },
    {
      "cell_type": "code",
      "source": [
        "kwh = float(input('Qual a quantidade de kWh? '))\n",
        "tipo = input('Qual o tipo de instalação? [R,I,C]')\n",
        "\n",
        "#R\n",
        "if tipo == 'R':\n",
        "  if kwh <= 500:\n",
        "    preco = kwh * 0.40\n",
        "  else: \n",
        "    preco = kwh * 0.65 \n",
        "\n",
        "#I\n",
        "if tipo == 'I':\n",
        "  if kwh <= 1000:\n",
        "    preco = kwh * 0.55\n",
        "  else: \n",
        "    preco = kwh * 0.60\n",
        "\n",
        "#C\n",
        "if tipo == 'C':\n",
        "  if kwh <= 5000:\n",
        "    preco = kwh * 0.55\n",
        "  else:\n",
        "    preco = kwh * 0.60  \n",
        "print(f'Preço a pagar: {preco:.2f}') \n",
        "#print('Preço a pagar: %.2f' %)\n"
      ],
      "metadata": {
        "colab": {
          "base_uri": "https://localhost:8080/"
        },
        "id": "WW4erzQqFNeX",
        "outputId": "1b654f3c-542b-4fe5-9e0a-bad294ed6a63"
      },
      "execution_count": 35,
      "outputs": [
        {
          "output_type": "stream",
          "name": "stdout",
          "text": [
            "Qual a quantidade de kWh? 800\n",
            "Qual o tipo de instalação? [R,I,C]C\n",
            "Preço a pagar: 440.00\n"
          ]
        }
      ]
    },
    {
      "cell_type": "markdown",
      "metadata": {
        "id": "_u5y_yqNQ0qJ"
      },
      "source": [
        "# Bibliografia"
      ]
    },
    {
      "cell_type": "markdown",
      "metadata": {
        "id": "dFNhflE2RE6Z"
      },
      "source": [
        "MENEZES, Nilo Ney Coutinho. **Introdução à programação com Python**: algoritmos e lógica de programação para iniciantes. 3. ed. São Paulo: Novatec, 2019."
      ]
    }
  ]
}