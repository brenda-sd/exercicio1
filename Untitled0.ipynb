{
  "nbformat": 4,
  "nbformat_minor": 0,
  "metadata": {
    "colab": {
      "name": "Untitled0.ipynb",
      "provenance": [],
      "authorship_tag": "ABX9TyPkDuPDHXFw+/wfI8kAanLc",
      "include_colab_link": true
    },
    "kernelspec": {
      "name": "python3",
      "display_name": "Python 3"
    },
    "language_info": {
      "name": "python"
    }
  },
  "cells": [
    {
      "cell_type": "markdown",
      "metadata": {
        "id": "view-in-github",
        "colab_type": "text"
      },
      "source": [
        "<a href=\"https://colab.research.google.com/github/brenda-sd/exercicio1/blob/main/Untitled0.ipynb\" target=\"_parent\"><img src=\"https://colab.research.google.com/assets/colab-badge.svg\" alt=\"Open In Colab\"/></a>"
      ]
    },
    {
      "cell_type": "code",
      "execution_count": 4,
      "metadata": {
        "colab": {
          "base_uri": "https://localhost:8080/"
        },
        "id": "vYGzCPsnK7wZ",
        "outputId": "aaf18703-b139-42d1-fcdd-471ce27c23e3"
      },
      "outputs": [
        {
          "output_type": "stream",
          "name": "stdout",
          "text": [
            "Qual velocidade? 120\n",
            "Excesso de velocidade!\n",
            "Valor da Multa: R$ 200.00\n"
          ]
        }
      ],
      "source": [
        "velocidade = int(input('Qual velocidade? '))\n",
        "limite = 80\n",
        "if velocidade > limite:\n",
        "  print('Excesso de velocidade!')\n",
        "  multa = (velocidade - limite) * 5\n",
        "  print(f'Valor da Multa: R$ {multa:.2f}') \n",
        "else:\n",
        " print('Velocidade dentro do limite') "
      ]
    },
    {
      "cell_type": "code",
      "source": [
        "numero1 = int(input('Digite um número: '))\n",
        "numero2 = int(input('Digite um número: '))\n",
        "numero3 = int(input('Digite um número: '))\n",
        "\n",
        "if numero1 > numero2 and numero1 > numero3:\n",
        "  print(f'{numero1} é o maior')\n",
        "else:\n",
        "  if numero2 > numero1 and numero2 > numero3:\n",
        "    print(f'{numero2} é o maior')\n",
        "  else:\n",
        "    print(f'{numero3} é o maior')\n",
        " #menor\n",
        "if numero1 < numero2 and numero1 < numero3:\n",
        "   print(f'{numero1} é o menor')\n",
        "elif numero2 < numero1 and numero2 < numero3:\n",
        "  print(f'{numero2} é o menor') \n",
        "else:\n",
        "  print(f'{numero3} é o menor')    \n",
        "\n",
        "\n",
        "\n",
        "\n",
        "\n",
        "\n",
        "\n",
        "\n"
      ],
      "metadata": {
        "colab": {
          "base_uri": "https://localhost:8080/"
        },
        "id": "xmvY7s6aPnRf",
        "outputId": "cef7d121-0d56-4648-cc7b-ce91e8753e58"
      },
      "execution_count": 25,
      "outputs": [
        {
          "output_type": "stream",
          "name": "stdout",
          "text": [
            "Digite um número: 50\n",
            "Digite um número: 20\n",
            "Digite um número: 10\n",
            "50 é o maior\n",
            "10 é o menor\n"
          ]
        }
      ]
    },
    {
      "cell_type": "code",
      "source": [
        "salario = float(input('Digite o salário: '))\n",
        "#porcentagem\n",
        "if salario > 1250:\n",
        "    porc = 10\n",
        "else:\n",
        "    porc = 15\n",
        "#aumento    \n",
        "aumento = salario + (salario * porc / 100)  \n",
        "print(f'Aumento: {aumento:.2f}')    "
      ],
      "metadata": {
        "colab": {
          "base_uri": "https://localhost:8080/"
        },
        "id": "9npM2-jFafdl",
        "outputId": "84f1f1f9-d776-404f-af22-5a25594a63f1"
      },
      "execution_count": 28,
      "outputs": [
        {
          "output_type": "stream",
          "name": "stdout",
          "text": [
            "Digite o salário: 1000\n",
            "Aumento: 1150.00\n"
          ]
        }
      ]
    },
    {
      "cell_type": "code",
      "source": [
        "distancia = int(input('Qual distância?: '))\n",
        "#distancia 200\n",
        "if distancia <= 200:\n",
        "  passagem = distancia * .50\n",
        "  print(f'preço: {passagem:.2f}')\n",
        "#distancia + 200  \n",
        "else:\n",
        "  passagem = distancia * 0.45\n",
        "  print(f'preço: {passagem:.2f}')  \n",
        "\n",
        " \n",
        "   "
      ],
      "metadata": {
        "colab": {
          "base_uri": "https://localhost:8080/"
        },
        "id": "NbXFoKOhpD-M",
        "outputId": "2b89aa43-ab9d-44ff-99ee-b05800c9f303"
      },
      "execution_count": 44,
      "outputs": [
        {
          "output_type": "stream",
          "name": "stdout",
          "text": [
            "Qual distância?: 300\n",
            "preço: 135.00\n"
          ]
        }
      ]
    }
  ]
}